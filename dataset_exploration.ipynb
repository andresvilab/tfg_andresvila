{
 "cells": [
  {
   "cell_type": "code",
   "execution_count": 1,
   "metadata": {},
   "outputs": [
    {
     "name": "stderr",
     "output_type": "stream",
     "text": [
      "C:\\ProgramData\\Anaconda3\\lib\\site-packages\\pandas\\core\\computation\\expressions.py:21: UserWarning: Pandas requires version '2.8.4' or newer of 'numexpr' (version '2.8.0' currently installed).\n",
      "  from pandas.core.computation.check import NUMEXPR_INSTALLED\n"
     ]
    }
   ],
   "source": [
    "import pandas as pd \n",
    "import matplotlib as plt \n",
    "import seaborn as sns "
   ]
  },
  {
   "cell_type": "markdown",
   "metadata": {},
   "source": [
    "Creation of the summary table to compare the key characteristics of each dataset"
   ]
  },
  {
   "cell_type": "code",
   "execution_count": 2,
   "metadata": {},
   "outputs": [
    {
     "name": "stdout",
     "output_type": "stream",
     "text": [
      "     Dataset  Number of Images Digital/Film Annotations Resolution  \\\n",
      "0       DDSM             11560         Film       Basic   Variable   \n",
      "1       MIAS               322         Film       Basic  1024x1024   \n",
      "2       BCDR              3703         Film    Detailed   Variable   \n",
      "3   INbreast               410      Digital    Detailed       High   \n",
      "4  CBIS-DDSM              1644      Digital    Detailed   Variable   \n",
      "\n",
      "  FAIR Compliance  \n",
      "0             Low  \n",
      "1             Low  \n",
      "2            High  \n",
      "3            High  \n",
      "4            High  \n"
     ]
    }
   ],
   "source": [
    "\n",
    "# Dataset characteristics\n",
    "data = {\n",
    "    'Dataset': ['DDSM', 'MIAS', 'BCDR', 'INbreast', 'CBIS-DDSM'],\n",
    "    'Number of Images': [11560, 322, 3703, 410, 1644],\n",
    "    'Digital/Film': ['Film', 'Film', 'Film', 'Digital', 'Digital'],\n",
    "    'Annotations': ['Basic', 'Basic', 'Detailed', 'Detailed', 'Detailed'],\n",
    "    'Resolution': ['Variable', '1024x1024', 'Variable', 'High', 'Variable'],\n",
    "    'FAIR Compliance': ['Low', 'Low', 'High', 'High', 'High']\n",
    "}\n",
    "\n",
    "df = pd.DataFrame(data)\n",
    "print(df)\n"
   ]
  },
  {
   "cell_type": "markdown",
   "metadata": {},
   "source": []
  },
  {
   "cell_type": "code",
   "execution_count": 4,
   "metadata": {},
   "outputs": [
    {
     "data": {
      "image/png": "[encoded data removed]",
      "text/plain": [
       "<Figure size 1008x432 with 2 Axes>"
      ]
     },
     "metadata": {
      "needs_background": "light"
     },
     "output_type": "display_data"
    }
   ],
   "source": [
    "# Assigning numerical values for the FAIR compliance\n",
    "df['FAIR Score'] = df['FAIR Compliance'].map({'Low': 1, 'Medium': 2, 'High': 3})\n",
    "\n",
    "fig, axes = plt.subplots(nrows=1, ncols=2, figsize=(14, 6))\n",
    "\n",
    "# Bar chart for number of images\n",
    "axes[0].bar(df['Dataset'], df['Number of Images'], color='skyblue')\n",
    "axes[0].set_xlabel('Dataset')\n",
    "axes[0].set_ylabel('Number of Images')\n",
    "axes[0].set_title('Number of Images in Each Dataset')\n",
    "\n",
    "# Bar chart for FAIR compliance\n",
    "axes[1].bar(df['Dataset'], df['FAIR Score'], color='lightgreen')\n",
    "axes[1].set_xlabel('Dataset')\n",
    "axes[1].set_ylabel('FAIR Compliance Score')\n",
    "axes[1].set_title('FAIR Compliance of Each Dataset')\n",
    "\n",
    "plt.tight_layout()\n",
    "plt.show()\n"
   ]
  },
  {
   "cell_type": "markdown",
   "metadata": {},
   "source": []
  },
  {
   "cell_type": "code",
   "execution_count": null,
   "metadata": {},
   "outputs": [],
   "source": []
  }
 ],
 "metadata": {
  "interpreter": {
   "hash": "b3ba2566441a7c06988d0923437866b63cedc61552a5af99d1f4fb67d367b25f"
  },
  "kernelspec": {
   "display_name": "Python 3.9.7 ('base')",
   "language": "python",
   "name": "python3"
  },
  "language_info": {
   "codemirror_mode": {
    "name": "ipython",
    "version": 3
   },
   "file_extension": ".py",
   "mimetype": "text/x-python",
   "name": "python",
   "nbconvert_exporter": "python",
   "pygments_lexer": "ipython3",
   "version": "3.9.7"
  },
  "orig_nbformat": 4
 },
 "nbformat": 4,
 "nbformat_minor": 2
}
