{
 "cells": [
  {
   "cell_type": "markdown",
   "metadata": {},
   "source": [
    "# Preparación de los conjuntos de validación y entrenamiento/test\n",
    "En este notebook partiremos el dataset ya preprocesado en dos conjuntos diferentes, validación y entranamiento/test. Comenzamos importando todas las librerías necesarias."
   ]
  },
  {
   "cell_type": "code",
   "execution_count": 1,
   "metadata": {},
   "outputs": [],
   "source": [
    "import pandas as pd\n",
    "import random\n",
    "import matplotlib.pyplot as plt\n",
    "%matplotlib inline"
   ]
  },
  {
   "cell_type": "markdown",
   "metadata": {},
   "source": [
    "Cargamos el pickle con el dataset preprocesado"
   ]
  },
  {
   "cell_type": "code",
   "execution_count": 2,
   "metadata": {},
   "outputs": [],
   "source": [
    "df_INbreast = pd.read_pickle('./df_INbreast.pkl')"
   ]
  },
  {
   "cell_type": "markdown",
   "metadata": {},
   "source": [
    "Apartamos el 20% de los datos por cada categoria para el set de validación"
   ]
  },
  {
   "cell_type": "code",
   "execution_count": 3,
   "metadata": {},
   "outputs": [],
   "source": [
    "random_seed = 2021\n",
    "frac_val = .2\n",
    "casos_total = df_INbreast[['Bi-Rads']]\n",
    "casos_val = casos_total[casos_total['Bi-Rads'] == 'benigno'].sample(frac = frac_val, random_state = random_seed)\n",
    "casos_val = casos_val.append(casos_total[casos_total['Bi-Rads'] == 'seguimiento'].sample(frac = frac_val, random_state = random_seed))\n",
    "casos_val = casos_val.append(casos_total[casos_total['Bi-Rads'] == 'maligno'].sample(frac = frac_val, random_state = random_seed))"
   ]
  },
  {
   "cell_type": "code",
   "execution_count": 4,
   "metadata": {},
   "outputs": [],
   "source": [
    "df_INbreast_val = df_INbreast[df_INbreast.index.isin(casos_val.index)]\n",
    "df_INbreast = df_INbreast[~df_INbreast.index.isin(casos_val.index)]"
   ]
  },
  {
   "cell_type": "code",
   "execution_count": 5,
   "metadata": {},
   "outputs": [
    {
     "data": {
      "text/plain": [
       "<Axes: title={'center': 'Conjunto validación'}>"
      ]
     },
     "execution_count": 5,
     "metadata": {},
     "output_type": "execute_result"
    },
    {
     "data": {
      "image/png": "[encoded data removed]",
      "text/plain": [
       "<Figure size 1008x360 with 2 Axes>"
      ]
     },
     "metadata": {
      "needs_background": "light"
     },
     "output_type": "display_data"
    }
   ],
   "source": [
    "fig = plt.figure(figsize = (14, 5))\n",
    "plt.subplot(1, 2, 1)\n",
    "plt.title('Conjunto entrenamiento/test')\n",
    "df_INbreast['Bi-Rads'].value_counts().plot(kind = 'bar')\n",
    "plt.subplot(1, 2, 2)\n",
    "plt.title('Conjunto validación')\n",
    "df_INbreast_val['Bi-Rads'].value_counts().plot(kind = 'bar')"
   ]
  },
  {
   "cell_type": "code",
   "execution_count": 6,
   "metadata": {},
   "outputs": [
    {
     "data": {
      "text/plain": [
       "<Axes: >"
      ]
     },
     "execution_count": 6,
     "metadata": {},
     "output_type": "execute_result"
    },
    {
     "data": {
      "image/png": "[encoded data removed]",
      "text/plain": [
       "<Figure size 432x288 with 1 Axes>"
      ]
     },
     "metadata": {
      "needs_background": "light"
     },
     "output_type": "display_data"
    }
   ],
   "source": [
    "df_INbreast_val['Bi-Rads'].value_counts().plot(kind = 'bar')"
   ]
  },
  {
   "cell_type": "code",
   "execution_count": 7,
   "metadata": {},
   "outputs": [],
   "source": [
    "df_INbreast_val.to_pickle('./df_INbreast_val.pkl', protocol=4)\n",
    "df_INbreast.to_pickle('./df_INbreast_train.pkl', protocol=4)"
   ]
  }
 ],
 "metadata": {
  "interpreter": {
   "hash": "b3ba2566441a7c06988d0923437866b63cedc61552a5af99d1f4fb67d367b25f"
  },
  "kernelspec": {
   "display_name": "Python 3.9.7 ('base')",
   "language": "python",
   "name": "python3"
  },
  "language_info": {
   "codemirror_mode": {
    "name": "ipython",
    "version": 3
   },
   "file_extension": ".py",
   "mimetype": "text/x-python",
   "name": "python",
   "nbconvert_exporter": "python",
   "pygments_lexer": "ipython3",
   "version": "3.9.7"
  },
  "orig_nbformat": 4
 },
 "nbformat": 4,
 "nbformat_minor": 2
}
